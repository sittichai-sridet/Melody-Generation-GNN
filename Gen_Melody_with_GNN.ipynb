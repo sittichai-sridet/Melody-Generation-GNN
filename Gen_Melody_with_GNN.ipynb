{
  "nbformat": 4,
  "nbformat_minor": 0,
  "metadata": {
    "colab": {
      "name": "Gen_Melody_with_GNN.ipynb",
      "provenance": [],
      "collapsed_sections": []
    },
    "kernelspec": {
      "name": "python3",
      "display_name": "Python 3"
    }
  },
  "cells": [
    {
      "cell_type": "markdown",
      "metadata": {
        "id": "9Att4J_oZ1fs"
      },
      "source": [
        "# Import Library and Data"
      ]
    },
    {
      "cell_type": "code",
      "metadata": {
        "id": "GwrAbxMr3bBn",
        "outputId": "86c7f61d-2a03-4ead-efde-246674b29f8a",
        "colab": {
          "base_uri": "https://localhost:8080/",
          "height": 96
        }
      },
      "source": [
        "!pip install urllib3\n",
        "import urllib3\n",
        "import json\n",
        "import numpy as np\n",
        "import pandas as pd\n",
        "from keras.models import Sequential, load_model\n",
        "from keras.layers import LSTM, Dropout, Masking, Dense, Embedding, Reshape"
      ],
      "execution_count": null,
      "outputs": [
        {
          "output_type": "stream",
          "text": [
            "Requirement already satisfied: urllib3 in /usr/local/lib/python3.6/dist-packages (1.24.3)\n"
          ],
          "name": "stdout"
        },
        {
          "output_type": "stream",
          "text": [
            "Using TensorFlow backend.\n"
          ],
          "name": "stderr"
        },
        {
          "output_type": "display_data",
          "data": {
            "text/html": [
              "<p style=\"color: red;\">\n",
              "The default version of TensorFlow in Colab will soon switch to TensorFlow 2.x.<br>\n",
              "We recommend you <a href=\"https://www.tensorflow.org/guide/migrate\" target=\"_blank\">upgrade</a> now \n",
              "or ensure your notebook will continue to use TensorFlow 1.x via the <code>%tensorflow_version 1.x</code> magic:\n",
              "<a href=\"https://colab.research.google.com/notebooks/tensorflow_version.ipynb\" target=\"_blank\">more info</a>.</p>\n"
            ],
            "text/plain": [
              "<IPython.core.display.HTML object>"
            ]
          },
          "metadata": {
            "tags": []
          }
        }
      ]
    },
    {
      "cell_type": "code",
      "metadata": {
        "id": "8fAcL4zSAo4r"
      },
      "source": [
        "http = urllib3.PoolManager()\n",
        "\n",
        "request = http.request('GET', 'http://abc.sourceforge.net/NMD/nmd/jigs.txt')\n",
        "\n",
        "data = request.data"
      ],
      "execution_count": null,
      "outputs": []
    },
    {
      "cell_type": "code",
      "metadata": {
        "id": "yXP9bxY3bCwq"
      },
      "source": [
        "spliter_list = ['||', ':|', '|:', '::', '|', '[', ']', '!segno!', '!trill!'] \n",
        "\n",
        "def custom_split(text, index_spliter): \n",
        "  num_text = len(text)\n",
        "  spliter = spliter_list[index_spliter]\n",
        "\n",
        "  len_spliter = len(spliter) \n",
        "  spread_list = [ text[i : i + len_spliter] for i in range(num_text - len_spliter + 1) ] \n",
        "\n",
        "  spliter_without_self = spliter_list.copy()\n",
        "  spliter_without_self.remove(spliter)\n",
        "  spliter_index = [i for i, m in enumerate(spread_list) if m == spliter]\n",
        "\n",
        "  if len(spliter_index) > 0 and text not in spliter_without_self: \n",
        "    melodys = []\n",
        "\n",
        "    melodys.append(text[0: spliter_index[0]]) \n",
        "\n",
        "    for i in range(len(spliter_index) - 1): \n",
        "       spliter_i = spliter_index[i]\n",
        "       spliter_j = spliter_index[i + 1]\n",
        "      #  melodys.append(text[spliter_i: spliter_i+len_spliter]) \n",
        "       melodys.append(text[spliter_i+len_spliter: spliter_j]) \n",
        "\n",
        "    # melodys.append(text[spliter_index[-1]: spliter_index[-1]+len_spliter])   \n",
        "    melodys.append(text[spliter_index[-1]+len_spliter: num_text]) \n",
        "\n",
        "  else:\n",
        "    melodys = [text]  \n",
        "\n",
        "  new_melodys = []\n",
        "  for melody in melodys: \n",
        "    new_melody = melody \n",
        "    \n",
        "    if new_melody != '' and new_melody[0].isnumeric():\n",
        "      new_melody = new_melody[1:]\n",
        "\n",
        "    if new_melody != '' and '\"' in new_melody:\n",
        "      splited = new_melody.split('\"')\n",
        "      new_melody = splited[0] + splited[-1] \n",
        "\n",
        "    new_melody = ''.join([m for m in new_melody if m != '\\\\'])\n",
        "\n",
        "    if len(new_melody) > 1: \n",
        "      new_melodys.append(new_melody)\n",
        "      \n",
        "  if index_spliter == len(spliter_list) - 1:\n",
        "    return new_melodys\n",
        "  else: \n",
        "    return [m for melody in new_melodys for m in custom_split(melody, index_spliter + 1)]"
      ],
      "execution_count": null,
      "outputs": []
    },
    {
      "cell_type": "code",
      "metadata": {
        "id": "t1QRkt6QAPxs"
      },
      "source": [
        "header = ['X:', 'T:', '% ', '%%', '%P', 'S:', 'M:', 'K:', 'P:', 'L:', 'V:']\n",
        "delete_melody = ['']\n",
        "\n",
        "musics = []\n",
        "\n",
        "for d in str(data)[2:-1].split(r'\\n\\n\\n'): \n",
        "  music = []\n",
        "  for i, s in enumerate(d.split(r'\\n')):\n",
        "    if s[:2] not in header:  \n",
        "      melody = [m for melody in r'{:}'.format(s).split() for m in custom_split(melody, 0) if m not in delete_melody]\n",
        "      music += melody\n",
        "  musics.append(music)"
      ],
      "execution_count": null,
      "outputs": []
    },
    {
      "cell_type": "code",
      "metadata": {
        "id": "N_b6qVvNLyTR"
      },
      "source": [
        "index_to_melody = sorted(list(set([melody for music in musics for melody in music])) + ['STOP'])\n",
        "melody_to_index = {m:i for i, m in enumerate(index_to_melody)} \n",
        "\n",
        "n_unique = len(index_to_melody)\n",
        "melody_to_one_hot = {} \n",
        "\n",
        "for i in range(n_unique): \n",
        "  one_hot = np.zeros(n_unique) \n",
        "  one_hot[i] = 1 \n",
        "  melody_to_one_hot[index_to_melody[i]] = one_hot "
      ],
      "execution_count": null,
      "outputs": []
    },
    {
      "cell_type": "code",
      "metadata": {
        "id": "zuWwwMXfGlcX"
      },
      "source": [
        "special_value = -n_unique\n",
        "max_seq_len = max([len(music) for music in musics])"
      ],
      "execution_count": null,
      "outputs": []
    },
    {
      "cell_type": "code",
      "metadata": {
        "id": "BUd0PJjK-VR3",
        "outputId": "83791a2f-8a35-4c92-e5b6-cde1872deee6",
        "colab": {
          "base_uri": "https://localhost:8080/",
          "height": 196
        }
      },
      "source": [
        "data_melody = pd.DataFrame(columns=['X', 'y', 'X_index', 'y_one_hot', 'length'])\n",
        "\n",
        "for music in musics:\n",
        "  for i in range(1, len(music) + 1):\n",
        "    X = music[0:i]\n",
        "    length = len(X)\n",
        "    X_one_hot = np.full(max_seq_len, special_value)\n",
        "    X_one_hot[0:length] = [melody_to_index[melody] for melody in X]\n",
        "    y = music[i] if i != len(music) else 'STOP'\n",
        "    y_one_hot = melody_to_one_hot[y]\n",
        "    data_melody = data_melody.append([{'X': X, 'X_index': X_one_hot, 'y':y, 'y_one_hot': y_one_hot, 'length': length}], ignore_index=True)\n",
        "    \n",
        "data_melody.head()"
      ],
      "execution_count": null,
      "outputs": [
        {
          "output_type": "execute_result",
          "data": {
            "text/html": [
              "<div>\n",
              "<style scoped>\n",
              "    .dataframe tbody tr th:only-of-type {\n",
              "        vertical-align: middle;\n",
              "    }\n",
              "\n",
              "    .dataframe tbody tr th {\n",
              "        vertical-align: top;\n",
              "    }\n",
              "\n",
              "    .dataframe thead th {\n",
              "        text-align: right;\n",
              "    }\n",
              "</style>\n",
              "<table border=\"1\" class=\"dataframe\">\n",
              "  <thead>\n",
              "    <tr style=\"text-align: right;\">\n",
              "      <th></th>\n",
              "      <th>X</th>\n",
              "      <th>y</th>\n",
              "      <th>X_index</th>\n",
              "      <th>y_one_hot</th>\n",
              "      <th>length</th>\n",
              "    </tr>\n",
              "  </thead>\n",
              "  <tbody>\n",
              "    <tr>\n",
              "      <th>0</th>\n",
              "      <td>[ecc]</td>\n",
              "      <td>c2f</td>\n",
              "      <td>[1064, -1242, -1242, -1242, -1242, -1242, -124...</td>\n",
              "      <td>[0.0, 0.0, 0.0, 0.0, 0.0, 0.0, 0.0, 0.0, 0.0, ...</td>\n",
              "      <td>1</td>\n",
              "    </tr>\n",
              "    <tr>\n",
              "      <th>1</th>\n",
              "      <td>[ecc, c2f]</td>\n",
              "      <td>ecc</td>\n",
              "      <td>[1064, 817, -1242, -1242, -1242, -1242, -1242,...</td>\n",
              "      <td>[0.0, 0.0, 0.0, 0.0, 0.0, 0.0, 0.0, 0.0, 0.0, ...</td>\n",
              "      <td>2</td>\n",
              "    </tr>\n",
              "    <tr>\n",
              "      <th>2</th>\n",
              "      <td>[ecc, c2f, ecc]</td>\n",
              "      <td>c2f</td>\n",
              "      <td>[1064, 817, 1064, -1242, -1242, -1242, -1242, ...</td>\n",
              "      <td>[0.0, 0.0, 0.0, 0.0, 0.0, 0.0, 0.0, 0.0, 0.0, ...</td>\n",
              "      <td>3</td>\n",
              "    </tr>\n",
              "    <tr>\n",
              "      <th>3</th>\n",
              "      <td>[ecc, c2f, ecc, c2f]</td>\n",
              "      <td>ecc</td>\n",
              "      <td>[1064, 817, 1064, 817, -1242, -1242, -1242, -1...</td>\n",
              "      <td>[0.0, 0.0, 0.0, 0.0, 0.0, 0.0, 0.0, 0.0, 0.0, ...</td>\n",
              "      <td>4</td>\n",
              "    </tr>\n",
              "    <tr>\n",
              "      <th>4</th>\n",
              "      <td>[ecc, c2f, ecc, c2f, ecc]</td>\n",
              "      <td>c2f</td>\n",
              "      <td>[1064, 817, 1064, 817, 1064, -1242, -1242, -12...</td>\n",
              "      <td>[0.0, 0.0, 0.0, 0.0, 0.0, 0.0, 0.0, 0.0, 0.0, ...</td>\n",
              "      <td>5</td>\n",
              "    </tr>\n",
              "  </tbody>\n",
              "</table>\n",
              "</div>"
            ],
            "text/plain": [
              "                           X  ... length\n",
              "0                      [ecc]  ...      1\n",
              "1                 [ecc, c2f]  ...      2\n",
              "2            [ecc, c2f, ecc]  ...      3\n",
              "3       [ecc, c2f, ecc, c2f]  ...      4\n",
              "4  [ecc, c2f, ecc, c2f, ecc]  ...      5\n",
              "\n",
              "[5 rows x 5 columns]"
            ]
          },
          "metadata": {
            "tags": []
          },
          "execution_count": 9
        }
      ]
    },
    {
      "cell_type": "markdown",
      "metadata": {
        "id": "16Yw2fF1aBAb"
      },
      "source": [
        "# Create Model"
      ]
    },
    {
      "cell_type": "code",
      "metadata": {
        "id": "UoH3WfTvaJzK"
      },
      "source": [
        "def create_model(): \n",
        "  model = Sequential()\n",
        " \n",
        "  model.add(Masking(mask_value=special_value, input_shape=(max_seq_len, 1))) \n",
        "\n",
        "  model.add(Embedding(input_dim = n_unique, output_dim = 256)) \n",
        "\n",
        "  model.add(Reshape((max_seq_len, 256)))\n",
        "\n",
        "  model.add(LSTM(128, return_sequences = True))\n",
        "\n",
        "  model.add(LSTM(128))\n",
        "\n",
        "  model.add(Dense(n_unique, activation='softmax'))\n",
        "\n",
        "  model.compile(optimizer='adam', loss='categorical_crossentropy', metrics = [\"accuracy\"]) \n",
        "\n",
        "  return model"
      ],
      "execution_count": null,
      "outputs": []
    },
    {
      "cell_type": "code",
      "metadata": {
        "id": "99qPG9A0Bd0D",
        "outputId": "4313d04c-ce2a-4724-deb3-a4492fa04f91",
        "colab": {
          "base_uri": "https://localhost:8080/",
          "height": 538
        }
      },
      "source": [
        "model = create_model()\n",
        "\n",
        "# model = load_model('path/gen_melody_20_epochs.h5')\n",
        "\n",
        "model.summary()"
      ],
      "execution_count": null,
      "outputs": [
        {
          "output_type": "stream",
          "text": [
            "WARNING:tensorflow:From /usr/local/lib/python3.6/dist-packages/keras/backend/tensorflow_backend.py:66: The name tf.get_default_graph is deprecated. Please use tf.compat.v1.get_default_graph instead.\n",
            "\n",
            "WARNING:tensorflow:From /usr/local/lib/python3.6/dist-packages/keras/backend/tensorflow_backend.py:541: The name tf.placeholder is deprecated. Please use tf.compat.v1.placeholder instead.\n",
            "\n",
            "WARNING:tensorflow:From /usr/local/lib/python3.6/dist-packages/keras/backend/tensorflow_backend.py:4432: The name tf.random_uniform is deprecated. Please use tf.random.uniform instead.\n",
            "\n",
            "WARNING:tensorflow:From /usr/local/lib/python3.6/dist-packages/keras/optimizers.py:793: The name tf.train.Optimizer is deprecated. Please use tf.compat.v1.train.Optimizer instead.\n",
            "\n",
            "WARNING:tensorflow:From /usr/local/lib/python3.6/dist-packages/keras/backend/tensorflow_backend.py:3576: The name tf.log is deprecated. Please use tf.math.log instead.\n",
            "\n",
            "Model: \"sequential_1\"\n",
            "_________________________________________________________________\n",
            "Layer (type)                 Output Shape              Param #   \n",
            "=================================================================\n",
            "masking_1 (Masking)          (None, 127, 1)            0         \n",
            "_________________________________________________________________\n",
            "embedding_1 (Embedding)      (None, 127, 1, 256)       317952    \n",
            "_________________________________________________________________\n",
            "reshape_1 (Reshape)          (None, 127, 256)          0         \n",
            "_________________________________________________________________\n",
            "lstm_1 (LSTM)                (None, 127, 128)          197120    \n",
            "_________________________________________________________________\n",
            "lstm_2 (LSTM)                (None, 128)               131584    \n",
            "_________________________________________________________________\n",
            "dense_1 (Dense)              (None, 1242)              160218    \n",
            "=================================================================\n",
            "Total params: 806,874\n",
            "Trainable params: 806,874\n",
            "Non-trainable params: 0\n",
            "_________________________________________________________________\n"
          ],
          "name": "stdout"
        }
      ]
    },
    {
      "cell_type": "code",
      "metadata": {
        "id": "EeUyjwKfDYeA",
        "outputId": "9f2fbd26-c169-4d4f-ce48-d18eb16a1237",
        "colab": {
          "base_uri": "https://localhost:8080/",
          "height": 368
        }
      },
      "source": [
        "X_index = data_melody['X_index']\n",
        "\n",
        "X = np.array(list(X_index.values)).reshape([X_index.shape[0], max_seq_len, 1]) \n",
        "y = np.array(list(data_melody['y_one_hot'].values))\n",
        "\n",
        "model.fit(X, y, batch_size=64, epochs=10)"
      ],
      "execution_count": null,
      "outputs": [
        {
          "output_type": "stream",
          "text": [
            "Epoch 1/10\n",
            "12911/12911 [==============================] - 130s 10ms/step - loss: 5.9767 - acc: 0.0267\n",
            "Epoch 2/10\n",
            "12911/12911 [==============================] - 130s 10ms/step - loss: 5.9721 - acc: 0.0246\n",
            "Epoch 3/10\n",
            "12911/12911 [==============================] - 131s 10ms/step - loss: 5.9618 - acc: 0.0263\n",
            "Epoch 4/10\n",
            "12911/12911 [==============================] - 130s 10ms/step - loss: 5.9636 - acc: 0.0257\n",
            "Epoch 5/10\n",
            "12911/12911 [==============================] - 130s 10ms/step - loss: 5.9567 - acc: 0.0265\n",
            "Epoch 6/10\n",
            "12911/12911 [==============================] - 130s 10ms/step - loss: 5.9572 - acc: 0.0249\n",
            "Epoch 7/10\n",
            "12911/12911 [==============================] - 130s 10ms/step - loss: 5.9573 - acc: 0.0252\n",
            "Epoch 8/10\n",
            "12911/12911 [==============================] - 130s 10ms/step - loss: 5.9530 - acc: 0.0238\n",
            "Epoch 9/10\n",
            "12911/12911 [==============================] - 130s 10ms/step - loss: 5.9573 - acc: 0.0250\n",
            "Epoch 10/10\n",
            "12911/12911 [==============================] - 130s 10ms/step - loss: 5.9523 - acc: 0.0246\n"
          ],
          "name": "stdout"
        },
        {
          "output_type": "execute_result",
          "data": {
            "text/plain": [
              "<keras.callbacks.History at 0x7fa424ebcf60>"
            ]
          },
          "metadata": {
            "tags": []
          },
          "execution_count": 20
        }
      ]
    },
    {
      "cell_type": "code",
      "metadata": {
        "id": "_HmP-Psl6eEi"
      },
      "source": [
        "#model.save('path/model_melody_1.h5')"
      ],
      "execution_count": null,
      "outputs": []
    },
    {
      "cell_type": "markdown",
      "metadata": {
        "id": "8VOGH2ooDm-v"
      },
      "source": [
        "# Generate Melody "
      ]
    },
    {
      "cell_type": "code",
      "metadata": {
        "id": "gkNegBs66qaI",
        "colab": {
          "base_uri": "https://localhost:8080/",
          "height": 117
        },
        "outputId": "d827db05-e67b-4ac2-b4e3-128665352370"
      },
      "source": [
        "first_melody_list = data_melody[data_melody.length == 1] \n",
        "first_melody_list['X'] = first_melody_list['X'].apply(lambda x: x[0])\n",
        "dict_weight = first_melody_list[['X', 'length']].groupby(['X']).count().to_dict()['length'] "
      ],
      "execution_count": null,
      "outputs": [
        {
          "output_type": "stream",
          "text": [
            "/usr/local/lib/python3.6/dist-packages/ipykernel_launcher.py:2: SettingWithCopyWarning: \n",
            "A value is trying to be set on a copy of a slice from a DataFrame.\n",
            "Try using .loc[row_indexer,col_indexer] = value instead\n",
            "\n",
            "See the caveats in the documentation: http://pandas.pydata.org/pandas-docs/stable/user_guide/indexing.html#returning-a-view-versus-a-copy\n",
            "  \n"
          ],
          "name": "stderr"
        }
      ]
    },
    {
      "cell_type": "code",
      "metadata": {
        "id": "OOOShwXEGihS"
      },
      "source": [
        "def roulette_wheel(items, prob):\n",
        "  prob_normal = np.array(prob) / sum(prob)\n",
        "  return np.random.choice(a=items, size=1, p=prob_normal)[0] \n",
        "\n",
        "def generate_music():\n",
        "  first_melody = roulette_wheel(list(dict_weight.keys()), list(dict_weight.values())) \n",
        "\n",
        "  melody = [first_melody]\n",
        "  index = 0\n",
        "\n",
        "  X = np.full((1, max_seq_len, 1), special_value)\n",
        "  X[0, index, 0] = melody_to_index[first_melody]\n",
        "\n",
        "  while True:\n",
        "    y_pred = model.predict(X)\n",
        "    next_melody = roulette_wheel(index_to_melody, y_pred[0])\n",
        "    if next_melody == 'STOP' or len(melody) > max_seq_len : \n",
        "      break \n",
        "    else: \n",
        "      if next_melody[0] != '-' or index % 2 == 0 :\n",
        "        melody.append(next_melody)\n",
        "        index += 1 \n",
        "        X[0, index, 0] = melody_to_index[first_melody]\n",
        "  \n",
        "  if len(melody) % 2 != 0 :\n",
        "    melody = melody[:-1]\n",
        "  return melody \n",
        "\n",
        "def print_melody(melodys): \n",
        "  lines = len(melodys) // 10 \n",
        "  outer = len(melodys) % 10 \n",
        "  for i in range(lines): \n",
        "    pairs = [' '.join([melodys[i*10 + j], melodys[i*10 + j + 1]]) for j in range(0, 10, 2)] \n",
        "    notes = '|'.join(pairs) + '|' \n",
        "    print(notes)  \n",
        "  pairs = [' '.join([melodys[lines*10 + j], melodys[lines*10 + j + 1]]) for j in range(0, outer, 2)] \n",
        "  notes = '|'.join(pairs) + '||' \n",
        "  print(notes) "
      ],
      "execution_count": null,
      "outputs": []
    },
    {
      "cell_type": "code",
      "metadata": {
        "id": "Mw9ibNNjG2Bf",
        "colab": {
          "base_uri": "https://localhost:8080/",
          "height": 67
        },
        "outputId": "7a8e045c-dc39-4751-a7c5-015c627ab0fd"
      },
      "source": [
        "music = generate_music() \n",
        "\n",
        "print_melody(music)"
      ],
      "execution_count": null,
      "outputs": [
        {
          "output_type": "stream",
          "text": [
            "d2^c ABc|fed Agg|cBc e3|E2e gag|FAd dcA|\n",
            "A2 c2e|A2 D-FA|B^AB cBA|de^f fdd|d2d Ace|\n",
            "gdB A2G|g2g d3|FGA e3||\n"
          ],
          "name": "stdout"
        }
      ]
    }
  ]
}